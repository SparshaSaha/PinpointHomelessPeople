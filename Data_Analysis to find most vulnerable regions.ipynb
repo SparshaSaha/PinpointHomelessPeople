{
 "cells": [
  {
   "cell_type": "code",
   "execution_count": 149,
   "metadata": {},
   "outputs": [],
   "source": [
    "import json\n",
    "from pprint import pprint\n",
    "import matplotlib.pyplot as plt\n",
    "import gmplot\n",
    "import numpy as np\n",
    "import math\n",
    "from pprint import pprint\n",
    "import matplotlib.pyplot as plt\n",
    "import random\n",
    "from math import sin, cos, sqrt, atan2, radians"
   ]
  },
  {
   "cell_type": "code",
   "execution_count": 150,
   "metadata": {},
   "outputs": [],
   "source": [
    "\n",
    "\n",
    "with open('data.json') as data_file:    \n",
    "    data = json.load(data_file)\n",
    "z=data['Homeless']\n",
    "coordinates=[]\n",
    "for k,v in z.items():\n",
    "    loc=(v['loc_data'])\n",
    "    u=[]\n",
    "    u.append(float(loc['latitude']))\n",
    "    u.append(float(loc['longitude']))\n",
    "    coordinates.append(u)\n",
    "\n",
    "\n",
    "z=[[36.83414915357137, 10.168730802834034],\n",
    "  [6.184225161803403, -0.43260645121335983],\n",
    "  [36.845354476795784, 10.171702690422535],\n",
    "  [-13.827427862949072, 1.9466178864240646],\n",
    "  [36.85116176229938, 10.194187648594378],\n",
    "  [36.82740209180303, 10.160890035331251]]\n",
    "\n",
    "for i in z:\n",
    "    coordinates.remove(i)\n"
   ]
  },
  {
   "cell_type": "code",
   "execution_count": 151,
   "metadata": {},
   "outputs": [],
   "source": [
    "\n",
    "def get_distance(p1,p2):\n",
    "    \n",
    "\n",
    "# approximate radius of earth in km\n",
    "    R = 6373.0\n",
    "\n",
    "    lat1 = radians(p1[0])\n",
    "    lon1 = radians(p1[1])\n",
    "    lat2 = radians(p2[0])\n",
    "    lon2 = radians(p2[1])\n",
    "\n",
    "    dlon = lon2 - lon1\n",
    "    dlat = lat2 - lat1\n",
    "\n",
    "    a = sin(dlat / 2)**2 + cos(lat1) * cos(lat2) * sin(dlon / 2)**2\n",
    "    c = 2 * atan2(sqrt(a), sqrt(1 - a))\n",
    "\n",
    "    distance = R * c\n",
    "    return distance"
   ]
  },
  {
   "cell_type": "code",
   "execution_count": 156,
   "metadata": {},
   "outputs": [],
   "source": [
    "points=coordinates\n",
    "k=6\n",
    "heads=[]\n",
    "clusters=[]\n",
    "heads=random.sample(points, k)\n",
    "\n",
    "new_clusters=[[]for i in range(k)]\n",
    "    \n",
    "\n",
    "new_heads=[]\n",
    "c=3\n",
    "while c>0:\n",
    "    for i in points:\n",
    "        mini=999999\n",
    "        c_no=0\n",
    "        for j in range(k):\n",
    "            h=get_distance(i,heads[j])\n",
    "            if h<mini:\n",
    "                mini=h\n",
    "                c_no=j\n",
    "        if i not in heads:\n",
    "            new_clusters[c_no].append(i)\n",
    "  \n",
    "    for i in new_clusters:\n",
    "        x_c=0\n",
    "        y_c=0\n",
    "        for j in i:\n",
    "            x_c+=j[0]\n",
    "            y_c+=j[1]\n",
    "        if len(i) !=0:\n",
    "            x_c=x_c/float(len(i))\n",
    "            y_c=y_c/float(len(i))\n",
    "        u=[x_c,y_c]\n",
    "        new_heads.append(u)\n",
    "        \n",
    "    #pprint(new_heads)\n",
    "    if clusters==new_clusters:\n",
    "        break\n",
    "    else:\n",
    "        clusters=new_clusters\n",
    "        new_clusters=[[]for i in range(k)]\n",
    "        heads=new_heads\n",
    "        new_heads=[]\n",
    "   \n",
    "\n"
   ]
  },
  {
   "cell_type": "code",
   "execution_count": 157,
   "metadata": {},
   "outputs": [],
   "source": [
    "sorted_cluster=[]\n",
    "max_len=0\n",
    "temp=[]\n",
    "\n",
    "for j in range(k):\n",
    "    for i in new_clusters:\n",
    "        l=len(i)\n",
    "        if l>max_len:\n",
    "            temp=i\n",
    "            max_len=l\n",
    "    new_clusters.remove(temp)\n",
    "    sorted_cluster.append(temp)\n",
    "    temp=[]\n",
    "    max_len=0\n",
    "\n",
    "new_clusters=sorted_cluster"
   ]
  },
  {
   "cell_type": "code",
   "execution_count": 158,
   "metadata": {},
   "outputs": [
    {
     "data": {
      "image/png": "[encoded data removed]",
      "text/plain": [
       "<matplotlib.figure.Figure at 0x7f242d5ce5d0>"
      ]
     },
     "metadata": {},
     "output_type": "display_data"
    }
   ],
   "source": [
    "colors=['ro','go','yo','bo','ko','co','mo']\n",
    "\n",
    "for i in range(k):\n",
    "    for j in new_clusters[i]:\n",
    "        plt.plot(j[0],j[1],colors[i])\n",
    "plt.show()\n"
   ]
  },
  {
   "cell_type": "code",
   "execution_count": 159,
   "metadata": {},
   "outputs": [],
   "source": [
    "gmap= gmplot.GoogleMapPlotter(25.54, 80.553, 5)\n",
    "color=['red','brown','yellow','blue','pink','green','black']\n",
    "color_chooser=0\n",
    "for i in new_clusters:\n",
    "    lats=[]\n",
    "    lons=[]\n",
    "    for j in i:\n",
    "        lats.append(j[0])\n",
    "        lons.append(j[1])\n",
    "    gmap.scatter(lats, lons, color[color_chooser],size=100, marker=True)\n",
    "    color_chooser+=1\n",
    "gmap.draw('map.html')"
   ]
  },
  {
   "cell_type": "code",
   "execution_count": null,
   "metadata": {},
   "outputs": [],
   "source": []
  },
  {
   "cell_type": "code",
   "execution_count": null,
   "metadata": {},
   "outputs": [],
   "source": []
  }
 ],
 "metadata": {
  "kernelspec": {
   "display_name": "Python 2",
   "language": "python",
   "name": "python2"
  },
  "language_info": {
   "codemirror_mode": {
    "name": "ipython",
    "version": 2
   },
   "file_extension": ".py",
   "mimetype": "text/x-python",
   "name": "python",
   "nbconvert_exporter": "python",
   "pygments_lexer": "ipython2",
   "version": "2.7.12+"
  }
 },
 "nbformat": 4,
 "nbformat_minor": 2
}
